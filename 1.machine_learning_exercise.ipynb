{
 "cells": [
  {
   "cell_type": "markdown",
   "metadata": {},
   "source": [
    "## 小象学院机器学习集训营-第1阶段-机器学习建模-作业1\n",
    "\n",
    "**考试说明:**\n",
    "\n",
    "- 以下为小象学院机器学习集训营第1阶段数据分析部分作业\n",
    "    - **习题部分**包含**问答题**和**代码填充题**\n",
    "    - **总结部分**可以对本部分学习内容进行总结和梳理，也可以对课程与服务进行反馈\n",
    "\n",
    "> 提示：大家将使用 jupyter Notebook 来完成项目。\n",
    "    - 问答题部分，可以在cell中作答，如果开启Markdown格式，可以参考[作业部落Markdown说明](https://www.zybuluo.com/mdeditor)给出的Markdown语法格式说明。\n",
    "    - 代码题部分，你可以通过单击代码区域，然后使用键盘快捷键 Shift+Enter 或 Shift+Return 来运行代码。或者在选择代码后使用执行（run cell）按钮执行代码。"
   ]
  },
  {
   "cell_type": "markdown",
   "metadata": {},
   "source": [
    "<center><h1>####答卷开始####</h1></center>\n",
    "<hr>"
   ]
  },
  {
   "cell_type": "markdown",
   "metadata": {},
   "source": [
    "## 简答题(共4题，每题5分，共计20分)"
   ]
  },
  {
   "cell_type": "markdown",
   "metadata": {},
   "source": [
    "#### 请写出你了解的机器学习特征工程操作，以及它的意义（面试题）"
   ]
  },
  {
   "cell_type": "markdown",
   "metadata": {
    "collapsed": true
   },
   "source": [
    "- 归一化和标准化，比如z-score，可以让数据集中在一个合适的范围内，不会有个别异常数据影响很大  \n",
    "- 特征的筛选,可以在特征中选择对结果影响较大的特征进行计算，舍弃掉不重要的、相关度低的特征  \n",
    "- 特征的组合:有时单个特征要和其他特征相结合才能产生非常明显的影响，这时考虑讲特征进行组合  \n",
    "- 类别特征的编码（按顺序编码或者独热向量编码）:通过编码可以把文本信息转化为数字信息  "
   ]
  },
  {
   "cell_type": "markdown",
   "metadata": {},
   "source": [
    "#### 请写出上述特征工程操作的sklearn或者pandas实现方式"
   ]
  },
  {
   "cell_type": "markdown",
   "metadata": {
    "collapsed": true
   },
   "source": [
    "标准化：  \n",
    "from sklearn.preprocessing import StandardScaler  \n",
    "std_scaler = StandardScaler()  \n",
    "fare_std_trans = std_scaler.fit_transform(df_train[['xxx']])\n"
   ]
  },
  {
   "cell_type": "markdown",
   "metadata": {},
   "source": [
    "特征筛选  \n",
    "from sklearn.feature_selection import SelectKBest  \n",
    "X_new = SelectKBest(k=2).fit_transform(X,y)"
   ]
  },
  {
   "cell_type": "markdown",
   "metadata": {},
   "source": [
    "用已有的特征，定义新的特征  \n",
    "df_train.loc[:,'alone'] = (df_train['SibSp']==0)&(df_train['Parch']==0)"
   ]
  },
  {
   "cell_type": "markdown",
   "metadata": {},
   "source": [
    "独热向量编码  \n",
    "from sklearn.preprocessing import OneHotEncoder  \n",
    "onehot_age = OneHotEncoder(sparse=False).fit_transform(data[['age']])"
   ]
  },
  {
   "cell_type": "markdown",
   "metadata": {},
   "source": [
    "#### 模型评估中的留一法，留出法，交叉验证分别是什么操作？"
   ]
  },
  {
   "cell_type": "markdown",
   "metadata": {
    "collapsed": true
   },
   "source": [
    "- 留出法  \n",
    "直接按一定比例划分  \n",
    "from sklearn.model_selection import train_test_split  \n",
    "使用train_test_split划分训练集和测试集  \n",
    "train_X , test_X, train_Y ,test_Y = train_test_split( X, Y, test_size=0.2,random_state=0)  "
   ]
  },
  {
   "cell_type": "markdown",
   "metadata": {},
   "source": [
    "- 交叉验证  \n",
    "from sklearn.model_selection import KFold  \n",
    "data = pd.read_excel('') #导入数据  \n",
    "kf = KFold(n_splits = 4,shuffle = False,random_state = None)   \n",
    "for train, test in kf.split(data):  \n",
    "    #操作"
   ]
  },
  {
   "cell_type": "markdown",
   "metadata": {},
   "source": [
    "- 留一法  \n",
    "from sklearn.model_selection import LeaveOneOut  \n",
    "X = [1, 2, 3, 4]  \n",
    "loo = LeaveOneOut()  \n",
    "for train, test in loo.split(data):  \n",
    "    #操作  "
   ]
  },
  {
   "cell_type": "markdown",
   "metadata": {},
   "source": [
    "#### 如何理解模型的过拟合与欠拟合，以及如何解决？（面试题）"
   ]
  },
  {
   "cell_type": "markdown",
   "metadata": {
    "collapsed": true
   },
   "source": [
    "- 过拟合就是模型对于训练数据的拟合效果特别好，不具备泛化能力，从而在测试数据上表现很差  \n",
    "- 一般来说是因为数据的类别不全面引起的，可以通过扩充数据集进行避免\n",
    "- 也可以通过截断，不让模型迭代过多轮次  \n",
    "- 也可以通过添加正则化项的方式，避免过拟合"
   ]
  },
  {
   "cell_type": "markdown",
   "metadata": {},
   "source": [
    "## 代码操作题(共1题，共计80分)"
   ]
  },
  {
   "cell_type": "markdown",
   "metadata": {},
   "source": [
    "### 信用卡欺诈项目(共7项，前5项每题10分，6，7题每题15分)"
   ]
  },
  {
   "cell_type": "markdown",
   "metadata": {},
   "source": [
    " #### 前期数据导入,预览及处理(此部分勿修改，涉及的数据文件无需复制移动)"
   ]
  },
  {
   "cell_type": "code",
   "execution_count": null,
   "metadata": {
    "ExecuteTime": {
     "end_time": "2019-03-19T03:27:51.453495Z",
     "start_time": "2019-03-19T03:27:51.195551Z"
    },
    "collapsed": true,
    "scrolled": true
   },
   "outputs": [],
   "source": [
    "import pandas as pd\n",
    "pd.set_option('display.max_columns', 500)\n",
    "import zipfile\n",
    "with zipfile.ZipFile('./data/KaggleCredit2.csv.zip', 'r') as z:\n",
    "    f = z.open('KaggleCredit2.csv')\n",
    "    data = pd.read_csv(f, index_col=0)\n",
    "data.head()"
   ]
  },
  {
   "cell_type": "code",
   "execution_count": null,
   "metadata": {
    "ExecuteTime": {
     "end_time": "2019-03-19T03:27:54.521513Z",
     "start_time": "2019-03-19T03:27:54.516639Z"
    },
    "collapsed": true
   },
   "outputs": [],
   "source": [
    "data.shape"
   ]
  },
  {
   "cell_type": "code",
   "execution_count": null,
   "metadata": {
    "ExecuteTime": {
     "end_time": "2019-03-19T03:27:55.249641Z",
     "start_time": "2019-03-19T03:27:55.220866Z"
    },
    "collapsed": true,
    "scrolled": true
   },
   "outputs": [],
   "source": [
    "data.isnull().sum(axis=0)"
   ]
  },
  {
   "cell_type": "code",
   "execution_count": null,
   "metadata": {
    "ExecuteTime": {
     "end_time": "2019-03-19T03:27:57.637982Z",
     "start_time": "2019-03-19T03:27:57.625108Z"
    },
    "collapsed": true
   },
   "outputs": [],
   "source": [
    "data=data.dropna()\n",
    "y = data['SeriousDlqin2yrs']\n",
    "X = data.drop('SeriousDlqin2yrs', axis=1)\n",
    "y.mean()"
   ]
  },
  {
   "cell_type": "code",
   "execution_count": null,
   "metadata": {
    "ExecuteTime": {
     "end_time": "2019-03-19T03:27:58.273070Z",
     "start_time": "2019-03-19T03:27:58.247052Z"
    },
    "collapsed": true
   },
   "outputs": [],
   "source": [
    "X.info()"
   ]
  },
  {
   "cell_type": "markdown",
   "metadata": {},
   "source": [
    "#### 以下为操作题"
   ]
  },
  {
   "cell_type": "markdown",
   "metadata": {
    "collapsed": true
   },
   "source": [
    "- 把数据切分成训练集和测试集\n",
    "    - tips：train_test_split"
   ]
  },
  {
   "cell_type": "code",
   "execution_count": null,
   "metadata": {
    "ExecuteTime": {
     "end_time": "2019-03-19T03:28:00.114260Z",
     "start_time": "2019-03-19T03:27:59.795708Z"
    },
    "collapsed": true
   },
   "outputs": [],
   "source": [
    "# your code here\n"
   ]
  },
  {
   "cell_type": "markdown",
   "metadata": {},
   "source": [
    "- 使用logistic regression建模，并且输出一下系数，分析重要度。 \n",
    "    - tips：feature_importance"
   ]
  },
  {
   "cell_type": "code",
   "execution_count": null,
   "metadata": {
    "ExecuteTime": {
     "end_time": "2019-03-19T03:28:06.870324Z",
     "start_time": "2019-03-19T03:28:06.226580Z"
    },
    "collapsed": true
   },
   "outputs": [],
   "source": [
    "# your code here\n"
   ]
  },
  {
   "cell_type": "markdown",
   "metadata": {},
   "source": [
    "- 使用决策树/SVM/KNN...等sklearn分类算法进行分类，尝试了解参数含义，调整不同的参数。\n",
    "    - tips：sklearn的API页面查询"
   ]
  },
  {
   "cell_type": "code",
   "execution_count": null,
   "metadata": {
    "collapsed": true
   },
   "outputs": [],
   "source": [
    "# your code here\n"
   ]
  },
  {
   "cell_type": "markdown",
   "metadata": {},
   "source": [
    "- 使用网格搜索交叉验证进行逻辑回归/随机森林/Xgboost/LightGBM调参\n",
    "    - tips:特别注意此处的正负样本不均衡，以及选择什么样的评估准则"
   ]
  },
  {
   "cell_type": "code",
   "execution_count": null,
   "metadata": {
    "collapsed": true
   },
   "outputs": [],
   "source": [
    "# your code here\n"
   ]
  },
  {
   "cell_type": "markdown",
   "metadata": {},
   "source": [
    "- 查看sklearn的官方说明，了解混淆矩阵等评估标准，并对此例进行评估。"
   ]
  },
  {
   "cell_type": "code",
   "execution_count": null,
   "metadata": {
    "ExecuteTime": {
     "end_time": "2019-03-19T03:29:16.494458Z",
     "start_time": "2019-03-19T03:29:16.444020Z"
    },
    "collapsed": true
   },
   "outputs": [],
   "source": [
    "# your code here\n"
   ]
  },
  {
   "cell_type": "markdown",
   "metadata": {},
   "source": [
    "- 银行通常会有更严格的要求，因为fraud带来的后果通常比较严重，一般我们会调整模型的标准。   \n",
    "比如在各种分类模型当中，一般我们的概率判定边界为0.5，但是我们可以把阈值设定低一些，来提高模型的“敏感度”   \n",
    "试试看把阈值设定为0.3，再看看这个时候的混淆矩阵等评估指标。"
   ]
  },
  {
   "cell_type": "code",
   "execution_count": null,
   "metadata": {
    "ExecuteTime": {
     "end_time": "2019-03-19T03:29:22.615864Z",
     "start_time": "2019-03-19T03:29:22.585810Z"
    },
    "collapsed": true
   },
   "outputs": [],
   "source": [
    "# your code here\n"
   ]
  },
  {
   "cell_type": "markdown",
   "metadata": {},
   "source": [
    "- 尝试对不同特征的重要度进行排序，通过特征选择的方式，对特征进行筛选。并重新建模，观察此时的模型准确率等评估指标。"
   ]
  },
  {
   "cell_type": "code",
   "execution_count": null,
   "metadata": {
    "ExecuteTime": {
     "end_time": "2019-03-19T03:29:26.646190Z",
     "start_time": "2019-03-19T03:29:26.615712Z"
    },
    "collapsed": true
   },
   "outputs": [],
   "source": [
    "# your code here\n"
   ]
  },
  {
   "cell_type": "markdown",
   "metadata": {},
   "source": [
    "***\n",
    "<center><h1>####答卷结束####</h1></center>"
   ]
  },
  {
   "cell_type": "markdown",
   "metadata": {},
   "source": [
    "### 本周课程意见反馈(非必答)\n",
    "请大家围绕以下内容进行回答：\n",
    "- 自身总结：您自己在本周课程的学习，收获，技能掌握等方面进行总结，包括自身在哪些方面存在哪些不足，欠缺，困惑。作为将来回顾学习路径时的依据。\n",
    "- 课程反馈：也可以就知识点，进度，难易度，辅导方式，考试难度等等进行意见反馈，督促我们进行更有效的改进，为大家提供更优质的服务。"
   ]
  }
 ],
 "metadata": {
  "kernelspec": {
   "display_name": "Python 3",
   "language": "python",
   "name": "python3"
  },
  "language_info": {
   "codemirror_mode": {
    "name": "ipython",
    "version": 3
   },
   "file_extension": ".py",
   "mimetype": "text/x-python",
   "name": "python",
   "nbconvert_exporter": "python",
   "pygments_lexer": "ipython3",
   "version": "3.5.3"
  },
  "toc": {
   "base_numbering": 1,
   "nav_menu": {},
   "number_sections": true,
   "sideBar": true,
   "skip_h1_title": false,
   "title_cell": "Table of Contents",
   "title_sidebar": "Contents",
   "toc_cell": false,
   "toc_position": {},
   "toc_section_display": true,
   "toc_window_display": true
  }
 },
 "nbformat": 4,
 "nbformat_minor": 2
}
